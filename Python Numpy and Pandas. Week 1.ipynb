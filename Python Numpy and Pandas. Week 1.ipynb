{
 "cells": [
  {
   "cell_type": "code",
   "execution_count": 1,
   "metadata": {},
   "outputs": [],
   "source": [
    "# Introduction to Python #"
   ]
  },
  {
   "cell_type": "code",
   "execution_count": 2,
   "metadata": {},
   "outputs": [
    {
     "name": "stdout",
     "output_type": "stream",
     "text": [
      "12\n",
      "34.56\n",
      "Hello World!\n",
      "Hello! 34\n",
      "<class 'int'>\n",
      "<class 'float'>\n",
      "<class 'str'>\n",
      "<class 'str'>\n",
      "<class 'int'>\n",
      "<class 'str'>\n"
     ]
    }
   ],
   "source": [
    "#Python has int, float, string but nothing like Character\n",
    "\n",
    "a=12\n",
    "b=34.56\n",
    "c=\"Hello World!\" \n",
    "print(a)\n",
    "print(b)\n",
    "print(c)\n",
    "print(\"Hello!\",end=\" \")\n",
    "print(34)\n",
    "print(type(a))\n",
    "print(type(b))\n",
    "print(type(c))\n",
    "print(type(\"Hello\"))\n",
    "print(type(34))\n",
    "print(type('c'))"
   ]
  },
  {
   "cell_type": "code",
   "execution_count": 3,
   "metadata": {},
   "outputs": [],
   "source": [
    "#   +, -, *, /(Actual Division), %, //(Quotient), **(To the power)"
   ]
  },
  {
   "cell_type": "code",
   "execution_count": 4,
   "metadata": {},
   "outputs": [
    {
     "name": "stdout",
     "output_type": "stream",
     "text": [
      "58.45\n",
      "729\n",
      "2.6666666666666665\n",
      "2\n",
      "2\n"
     ]
    }
   ],
   "source": [
    "print(2+56.45)\n",
    "print(9**3)\n",
    "print(8/3)\n",
    "print(8//3)\n",
    "print(8%3)"
   ]
  },
  {
   "cell_type": "code",
   "execution_count": 5,
   "metadata": {},
   "outputs": [],
   "source": [
    "#By default python takes string as input"
   ]
  },
  {
   "cell_type": "code",
   "execution_count": 6,
   "metadata": {},
   "outputs": [
    {
     "name": "stdout",
     "output_type": "stream",
     "text": [
      "Hello\n",
      "Hello\n"
     ]
    }
   ],
   "source": [
    "val=input()\n",
    "print(val)"
   ]
  },
  {
   "cell_type": "code",
   "execution_count": 7,
   "metadata": {},
   "outputs": [
    {
     "name": "stdout",
     "output_type": "stream",
     "text": [
      "Give an integer:123\n",
      "123\n"
     ]
    }
   ],
   "source": [
    "val1=int(input(\"Give an integer:\"))\n",
    "print(val1)"
   ]
  },
  {
   "cell_type": "code",
   "execution_count": 8,
   "metadata": {},
   "outputs": [],
   "source": [
    "# if, elif, else "
   ]
  },
  {
   "cell_type": "code",
   "execution_count": 9,
   "metadata": {},
   "outputs": [
    {
     "name": "stdout",
     "output_type": "stream",
     "text": [
      "Give a:45\n",
      "Give b:34.55667\n",
      "a is greater than b\n",
      "45\n"
     ]
    }
   ],
   "source": [
    "a=int(input(\"Give a:\"))\n",
    "b=float(input(\"Give b:\"))\n",
    "if a>b:\n",
    "    print(\"a is greater than b\")\n",
    "    print(a)\n",
    "elif a==b:\n",
    "    print(\"They are equal\")\n",
    "else:\n",
    "    print(\"a is smaller than b\")\n",
    "    print(b)"
   ]
  },
  {
   "cell_type": "code",
   "execution_count": 10,
   "metadata": {},
   "outputs": [],
   "source": [
    "# List"
   ]
  },
  {
   "cell_type": "code",
   "execution_count": 11,
   "metadata": {},
   "outputs": [
    {
     "name": "stdout",
     "output_type": "stream",
     "text": [
      "[12, 45.45, 78, [12, 61, 'Saurav'], 'Haha']\n"
     ]
    }
   ],
   "source": [
    "a=[12, 45.45, 78, [12, 61, \"Saurav\"], \"Haha\"]\n",
    "print(a)"
   ]
  },
  {
   "cell_type": "code",
   "execution_count": 12,
   "metadata": {},
   "outputs": [
    {
     "name": "stdout",
     "output_type": "stream",
     "text": [
      "[12, 45.45, 78, [12, 61, 'Saurav'], 'Haha', 'Hello!']\n"
     ]
    }
   ],
   "source": [
    "a.append(\"Hello!\")\n",
    "print(a)"
   ]
  },
  {
   "cell_type": "code",
   "execution_count": 13,
   "metadata": {},
   "outputs": [
    {
     "name": "stdout",
     "output_type": "stream",
     "text": [
      "[12, 45.45, 78, [12, 61, 'Saurav'], 'Haha']\n"
     ]
    }
   ],
   "source": [
    "a.pop()\n",
    "print(a)"
   ]
  },
  {
   "cell_type": "code",
   "execution_count": 14,
   "metadata": {},
   "outputs": [
    {
     "name": "stdout",
     "output_type": "stream",
     "text": [
      "12\n"
     ]
    }
   ],
   "source": [
    "print(a[0])"
   ]
  },
  {
   "cell_type": "code",
   "execution_count": 15,
   "metadata": {},
   "outputs": [
    {
     "name": "stdout",
     "output_type": "stream",
     "text": [
      "[12, 61, 'Saurav']\n"
     ]
    }
   ],
   "source": [
    "print(a[3])"
   ]
  },
  {
   "cell_type": "code",
   "execution_count": 16,
   "metadata": {},
   "outputs": [
    {
     "name": "stdout",
     "output_type": "stream",
     "text": [
      "Saurav\n"
     ]
    }
   ],
   "source": [
    "print(a[3][2])"
   ]
  },
  {
   "cell_type": "code",
   "execution_count": 17,
   "metadata": {},
   "outputs": [
    {
     "name": "stdout",
     "output_type": "stream",
     "text": [
      "Haha\n"
     ]
    }
   ],
   "source": [
    "print(a[-1])"
   ]
  },
  {
   "cell_type": "code",
   "execution_count": 18,
   "metadata": {},
   "outputs": [
    {
     "name": "stdout",
     "output_type": "stream",
     "text": [
      "12\n"
     ]
    }
   ],
   "source": [
    "print(a[-2][-3])"
   ]
  },
  {
   "cell_type": "code",
   "execution_count": 19,
   "metadata": {},
   "outputs": [
    {
     "name": "stdout",
     "output_type": "stream",
     "text": [
      "12\n"
     ]
    }
   ],
   "source": [
    "print(a[-2][0])"
   ]
  },
  {
   "cell_type": "code",
   "execution_count": 20,
   "metadata": {},
   "outputs": [
    {
     "name": "stdout",
     "output_type": "stream",
     "text": [
      "[12, 45.45, 78, [12, 61, 'Saurav'], 'Haha']\n"
     ]
    }
   ],
   "source": [
    "print(a)"
   ]
  },
  {
   "cell_type": "code",
   "execution_count": 21,
   "metadata": {},
   "outputs": [
    {
     "name": "stdout",
     "output_type": "stream",
     "text": [
      "[45.45, 78, [12, 61, 'Saurav']]\n"
     ]
    }
   ],
   "source": [
    "print(a[1:4])"
   ]
  },
  {
   "cell_type": "code",
   "execution_count": 22,
   "metadata": {},
   "outputs": [
    {
     "name": "stdout",
     "output_type": "stream",
     "text": [
      "[12, 45.45, 78]\n"
     ]
    }
   ],
   "source": [
    "print(a[:3])"
   ]
  },
  {
   "cell_type": "code",
   "execution_count": 23,
   "metadata": {},
   "outputs": [
    {
     "name": "stdout",
     "output_type": "stream",
     "text": [
      "[[12, 61, 'Saurav'], 'Haha']\n"
     ]
    }
   ],
   "source": [
    "print(a[3:])"
   ]
  },
  {
   "cell_type": "code",
   "execution_count": 24,
   "metadata": {},
   "outputs": [
    {
     "name": "stdout",
     "output_type": "stream",
     "text": [
      "[34, 76.56, 34, 87.12, 89, 10, -0.22]\n",
      "7\n",
      "89\n",
      "-0.22\n",
      "330.46\n",
      "[-0.22, 10, 34, 34, 76.56, 87.12, 89]\n",
      "[89, 87.12, 76.56, 34, 34, 10, -0.22]\n"
     ]
    }
   ],
   "source": [
    "b=[34, 76.56, 34, 87.12, 89, 10, -0.22]\n",
    "print(b)\n",
    "print(len(b))\n",
    "print(max(b))\n",
    "print(min(b))\n",
    "print(sum(b))\n",
    "b.sort()\n",
    "print(b)\n",
    "b.reverse()\n",
    "print(b)"
   ]
  },
  {
   "cell_type": "code",
   "execution_count": 25,
   "metadata": {},
   "outputs": [
    {
     "name": "stdout",
     "output_type": "stream",
     "text": [
      "[34, 34]\n"
     ]
    }
   ],
   "source": [
    "print(b[3:5])"
   ]
  },
  {
   "cell_type": "code",
   "execution_count": 26,
   "metadata": {},
   "outputs": [
    {
     "name": "stdout",
     "output_type": "stream",
     "text": [
      "[34, 34, 10]\n"
     ]
    }
   ],
   "source": [
    "print(b[-4:-1])"
   ]
  },
  {
   "cell_type": "code",
   "execution_count": 27,
   "metadata": {},
   "outputs": [
    {
     "name": "stdout",
     "output_type": "stream",
     "text": [
      "[0, 1, 2, 3, 4, 5]\n"
     ]
    }
   ],
   "source": [
    "print(list(range(6)))"
   ]
  },
  {
   "cell_type": "code",
   "execution_count": 28,
   "metadata": {},
   "outputs": [
    {
     "name": "stdout",
     "output_type": "stream",
     "text": [
      "[5, 6, 7, 8, 9, 10, 11, 12, 13]\n"
     ]
    }
   ],
   "source": [
    "print(list(range(5, 14)))"
   ]
  },
  {
   "cell_type": "code",
   "execution_count": 29,
   "metadata": {},
   "outputs": [
    {
     "name": "stdout",
     "output_type": "stream",
     "text": [
      "[3, 5, 7, 9, 11, 13, 15, 17, 19]\n"
     ]
    }
   ],
   "source": [
    "print(list(range(3, 20, 2)))"
   ]
  },
  {
   "cell_type": "code",
   "execution_count": 30,
   "metadata": {},
   "outputs": [],
   "source": [
    "#Looping"
   ]
  },
  {
   "cell_type": "code",
   "execution_count": 31,
   "metadata": {},
   "outputs": [
    {
     "name": "stdout",
     "output_type": "stream",
     "text": [
      "[89, 87.12, 76.56, 34, 34, 10, -0.22]\n"
     ]
    }
   ],
   "source": [
    "print(b)"
   ]
  },
  {
   "cell_type": "code",
   "execution_count": 32,
   "metadata": {},
   "outputs": [
    {
     "name": "stdout",
     "output_type": "stream",
     "text": [
      "330.46\n"
     ]
    }
   ],
   "source": [
    "sum1=0\n",
    "for item in b:\n",
    "    sum1=sum1+item\n",
    "print(sum1)"
   ]
  },
  {
   "cell_type": "code",
   "execution_count": 33,
   "metadata": {},
   "outputs": [
    {
     "name": "stdout",
     "output_type": "stream",
     "text": [
      "330.46\n"
     ]
    }
   ],
   "source": [
    "print(sum(b))"
   ]
  },
  {
   "cell_type": "code",
   "execution_count": 34,
   "metadata": {},
   "outputs": [
    {
     "name": "stdout",
     "output_type": "stream",
     "text": [
      "330.46\n"
     ]
    }
   ],
   "source": [
    "sum1=0\n",
    "i=0\n",
    "while i<len(b):\n",
    "    sum1=sum1+b[i]\n",
    "    i=i+1\n",
    "print(sum1)    "
   ]
  },
  {
   "cell_type": "code",
   "execution_count": 35,
   "metadata": {},
   "outputs": [],
   "source": [
    "# Tuples       #We can't modify tuples once created"
   ]
  },
  {
   "cell_type": "code",
   "execution_count": 36,
   "metadata": {},
   "outputs": [
    {
     "name": "stdout",
     "output_type": "stream",
     "text": [
      "(12, 45.34, [56, 51], 'Saurav')\n"
     ]
    }
   ],
   "source": [
    "a=(12, 45.34, [56, 51], \"Saurav\")\n",
    "print(a)"
   ]
  },
  {
   "cell_type": "code",
   "execution_count": 37,
   "metadata": {},
   "outputs": [
    {
     "name": "stdout",
     "output_type": "stream",
     "text": [
      "[56, 51]\n"
     ]
    }
   ],
   "source": [
    "print(a[2])"
   ]
  },
  {
   "cell_type": "code",
   "execution_count": 38,
   "metadata": {},
   "outputs": [
    {
     "name": "stdout",
     "output_type": "stream",
     "text": [
      "56\n"
     ]
    }
   ],
   "source": [
    "print(a[2][0])"
   ]
  },
  {
   "cell_type": "code",
   "execution_count": 41,
   "metadata": {},
   "outputs": [
    {
     "name": "stdout",
     "output_type": "stream",
     "text": [
      "(23,)\n"
     ]
    }
   ],
   "source": [
    "b=(23, )\n",
    "print(b)"
   ]
  },
  {
   "cell_type": "code",
   "execution_count": 42,
   "metadata": {},
   "outputs": [
    {
     "name": "stdout",
     "output_type": "stream",
     "text": [
      "<class 'tuple'>\n"
     ]
    }
   ],
   "source": [
    "print(type(b))"
   ]
  },
  {
   "cell_type": "code",
   "execution_count": 43,
   "metadata": {},
   "outputs": [],
   "source": [
    "#Sets  #Sets are not iteratable"
   ]
  },
  {
   "cell_type": "code",
   "execution_count": 44,
   "metadata": {},
   "outputs": [
    {
     "name": "stdout",
     "output_type": "stream",
     "text": [
      "{89, 67, 12, 45}\n"
     ]
    }
   ],
   "source": [
    "a={12, 45, 12, 45, 12, 67, 89}\n",
    "print(a)"
   ]
  },
  {
   "cell_type": "code",
   "execution_count": 57,
   "metadata": {},
   "outputs": [],
   "source": [
    "#Dictionary  #Keys are unique"
   ]
  },
  {
   "cell_type": "code",
   "execution_count": 58,
   "metadata": {},
   "outputs": [
    {
     "name": "stdout",
     "output_type": "stream",
     "text": [
      "{'USA': 23, 'India': 34, 'Japan': 19}\n"
     ]
    }
   ],
   "source": [
    "d={\"USA\":23, \"India\":34, \"Japan\":19}\n",
    "print(d)"
   ]
  },
  {
   "cell_type": "code",
   "execution_count": 59,
   "metadata": {},
   "outputs": [
    {
     "name": "stdout",
     "output_type": "stream",
     "text": [
      "['USA', 'India', 'Japan']\n",
      "[23, 34, 19]\n"
     ]
    }
   ],
   "source": [
    "print(list(d.keys()))\n",
    "print(list(d.values()))"
   ]
  },
  {
   "cell_type": "code",
   "execution_count": 60,
   "metadata": {},
   "outputs": [
    {
     "name": "stdout",
     "output_type": "stream",
     "text": [
      "34\n"
     ]
    }
   ],
   "source": [
    "print(d[\"India\"])"
   ]
  },
  {
   "cell_type": "code",
   "execution_count": 61,
   "metadata": {},
   "outputs": [
    {
     "name": "stdout",
     "output_type": "stream",
     "text": [
      "{'USA': 23, 'India': 34, 'Japan': 19, 'China': 333}\n"
     ]
    }
   ],
   "source": [
    "d[\"China\"]=333\n",
    "print(d)"
   ]
  },
  {
   "cell_type": "code",
   "execution_count": 62,
   "metadata": {},
   "outputs": [
    {
     "name": "stdout",
     "output_type": "stream",
     "text": [
      "{'USA': 23, 'India': 34, 'Japan': 19, 'China': 333, 100: 200}\n"
     ]
    }
   ],
   "source": [
    "d[100]=200\n",
    "print(d)"
   ]
  },
  {
   "cell_type": "code",
   "execution_count": 63,
   "metadata": {},
   "outputs": [
    {
     "name": "stdout",
     "output_type": "stream",
     "text": [
      "{'USA': 23, 'India': 34, 'China': 333, 100: 200}\n"
     ]
    }
   ],
   "source": [
    "del(d[\"Japan\"])\n",
    "print(d)"
   ]
  },
  {
   "cell_type": "code",
   "execution_count": 64,
   "metadata": {},
   "outputs": [
    {
     "name": "stdout",
     "output_type": "stream",
     "text": [
      "{'USA': 23, 'India': 34, 'China': 333}\n"
     ]
    }
   ],
   "source": [
    "del(d[100])\n",
    "print(d)"
   ]
  },
  {
   "cell_type": "code",
   "execution_count": 65,
   "metadata": {},
   "outputs": [
    {
     "name": "stdout",
     "output_type": "stream",
     "text": [
      "{12: [34, 56, 78], 67: [67, 45], 'Saurav': 'Kumar'}\n",
      "78\n"
     ]
    }
   ],
   "source": [
    "z={12:[34, 56, 78], 67:[67, 45], \"Saurav\":\"Kumar\"}\n",
    "print(z)\n",
    "print(z[12][2])"
   ]
  },
  {
   "cell_type": "code",
   "execution_count": 66,
   "metadata": {},
   "outputs": [],
   "source": [
    "#List Comp."
   ]
  },
  {
   "cell_type": "code",
   "execution_count": 67,
   "metadata": {},
   "outputs": [
    {
     "name": "stdout",
     "output_type": "stream",
     "text": [
      "[144, 3136, 6084, 7921, 100]\n"
     ]
    }
   ],
   "source": [
    "a=[12, 56, 78, 89, -10]\n",
    "b=[item**2 for item in a]\n",
    "print(b)"
   ]
  },
  {
   "cell_type": "code",
   "execution_count": 68,
   "metadata": {},
   "outputs": [
    {
     "name": "stdout",
     "output_type": "stream",
     "text": [
      "[144, 6084]\n"
     ]
    }
   ],
   "source": [
    "c=[x for x in b if x%2==0 and x%3==0]\n",
    "print(c)"
   ]
  },
  {
   "cell_type": "code",
   "execution_count": 69,
   "metadata": {},
   "outputs": [],
   "source": [
    "#Functions"
   ]
  },
  {
   "cell_type": "code",
   "execution_count": 70,
   "metadata": {},
   "outputs": [
    {
     "name": "stdout",
     "output_type": "stream",
     "text": [
      "Hello!\n"
     ]
    }
   ],
   "source": [
    "def fun():\n",
    "    print(\"Hello!\")\n",
    "    \n",
    "fun()    "
   ]
  },
  {
   "cell_type": "code",
   "execution_count": 71,
   "metadata": {},
   "outputs": [
    {
     "name": "stdout",
     "output_type": "stream",
     "text": [
      "17.34\n"
     ]
    }
   ],
   "source": [
    "def fun_c(a, b):\n",
    "    return(a+b)\n",
    "val=fun_c(12, 5.34)\n",
    "print(val)"
   ]
  },
  {
   "cell_type": "code",
   "execution_count": 72,
   "metadata": {},
   "outputs": [],
   "source": [
    "#Lambdas :    They are ann. functions"
   ]
  },
  {
   "cell_type": "code",
   "execution_count": 73,
   "metadata": {},
   "outputs": [
    {
     "name": "stdout",
     "output_type": "stream",
     "text": [
      "15\n"
     ]
    }
   ],
   "source": [
    "val=lambda a, b, c : a+b+c\n",
    "c=val(12, 1, 2)\n",
    "print(c)"
   ]
  },
  {
   "cell_type": "code",
   "execution_count": 74,
   "metadata": {},
   "outputs": [
    {
     "name": "stdout",
     "output_type": "stream",
     "text": [
      "Counter({12: 3, 56: 2, 78: 2, 89: 1, 100: 1})\n",
      "[(12, 3), (56, 2), (78, 2), (89, 1), (100, 1)]\n"
     ]
    }
   ],
   "source": [
    "import collections\n",
    "a=[12, 56, 12, 78, 12, 56, 78, 89, 100]\n",
    "ctr=collections.Counter(a)\n",
    "print(ctr)\n",
    "val=ctr.most_common()\n",
    "print(val)"
   ]
  },
  {
   "cell_type": "code",
   "execution_count": 77,
   "metadata": {},
   "outputs": [
    {
     "name": "stdout",
     "output_type": "stream",
     "text": [
      "[[0, 'S'], [4, 'B'], [12, 'A']]\n"
     ]
    }
   ],
   "source": [
    "a=[[12, \"A\"], [0, \"S\"], [4, \"B\"]]\n",
    "a.sort()\n",
    "print(a)"
   ]
  },
  {
   "cell_type": "code",
   "execution_count": 78,
   "metadata": {},
   "outputs": [
    {
     "name": "stdout",
     "output_type": "stream",
     "text": [
      "[['A', 51], ['C', 67], ['X', 34]]\n"
     ]
    }
   ],
   "source": [
    "b=[[\"X\", 34], [\"A\", 51], [\"C\", 67]]\n",
    "b.sort()\n",
    "print(b)"
   ]
  },
  {
   "cell_type": "code",
   "execution_count": 79,
   "metadata": {},
   "outputs": [],
   "source": [
    "#map"
   ]
  },
  {
   "cell_type": "code",
   "execution_count": 80,
   "metadata": {},
   "outputs": [
    {
     "name": "stdout",
     "output_type": "stream",
     "text": [
      "[6.0, 22.5, 35.5, 44.5, 0.0]\n"
     ]
    }
   ],
   "source": [
    "a=[12, 45, 71, 89, 0]\n",
    "def fun(val):\n",
    "    return(val/2)\n",
    "\n",
    "print(list(map(fun, a)))"
   ]
  },
  {
   "cell_type": "code",
   "execution_count": 133,
   "metadata": {},
   "outputs": [],
   "source": [
    "#datetime in Python"
   ]
  },
  {
   "cell_type": "code",
   "execution_count": 141,
   "metadata": {},
   "outputs": [
    {
     "name": "stdout",
     "output_type": "stream",
     "text": [
      "1999-07-10\n",
      "1999\n",
      "03:56:56.000900\n",
      "900\n",
      "1999-04-01\n",
      "1999-07-10 03:34:56.000899\n",
      "1999-04-01 03:34:56.000899\n"
     ]
    }
   ],
   "source": [
    "import datetime as dt\n",
    "a=dt.date(1999, 7, 10)\n",
    "print(a)\n",
    "print(a.year)\n",
    "b=dt.time(3, 56, 56, 900)\n",
    "print(b)\n",
    "print(b.microsecond)\n",
    "d=dt.timedelta(days=-100)\n",
    "v=a+d\n",
    "print(v)\n",
    "c=dt.datetime(1999, 7, 10, 3, 34, 56, 899)\n",
    "print(c)\n",
    "print(c+d)"
   ]
  },
  {
   "cell_type": "code",
   "execution_count": 142,
   "metadata": {},
   "outputs": [
    {
     "name": "stdout",
     "output_type": "stream",
     "text": [
      "Matched\n"
     ]
    }
   ],
   "source": [
    "a=\"Saurav Kumar Nishant\"\n",
    "val=\"mar\" in a\n",
    "if val==True:\n",
    "    print(\"Matched\")\n",
    "else:\n",
    "    print(\"Not Matched\")"
   ]
  },
  {
   "cell_type": "code",
   "execution_count": 143,
   "metadata": {},
   "outputs": [
    {
     "name": "stdout",
     "output_type": "stream",
     "text": [
      "['S', 'ur', 'v Kum', 'r Nish', 'nt']\n"
     ]
    }
   ],
   "source": [
    "b=a.split(\"a\")\n",
    "print(b)"
   ]
  },
  {
   "cell_type": "code",
   "execution_count": 81,
   "metadata": {},
   "outputs": [],
   "source": [
    "# numpy in pythons #"
   ]
  },
  {
   "cell_type": "code",
   "execution_count": 82,
   "metadata": {},
   "outputs": [],
   "source": [
    "import numpy as np"
   ]
  },
  {
   "cell_type": "code",
   "execution_count": 113,
   "metadata": {},
   "outputs": [
    {
     "name": "stdout",
     "output_type": "stream",
     "text": [
      "[12 67 78 56 89]\n",
      "89\n",
      "4\n",
      "302\n",
      "60.4\n",
      "26.58270114190806\n"
     ]
    }
   ],
   "source": [
    "a=np.array([12, 67, 78, 56, 89])       #1-D array\n",
    "print(a)\n",
    "print(np.max(a))\n",
    "print(np.argmax(a))\n",
    "print(np.sum(a))\n",
    "print(np.mean(a))\n",
    "print(np.std(a))"
   ]
  },
  {
   "cell_type": "code",
   "execution_count": 114,
   "metadata": {},
   "outputs": [
    {
     "name": "stdout",
     "output_type": "stream",
     "text": [
      "5\n"
     ]
    }
   ],
   "source": [
    "print(a.size)"
   ]
  },
  {
   "cell_type": "code",
   "execution_count": 117,
   "metadata": {},
   "outputs": [
    {
     "name": "stdout",
     "output_type": "stream",
     "text": [
      "56\n",
      "[67 78 56]\n"
     ]
    }
   ],
   "source": [
    "print(a[3])\n",
    "print(a[1:4])"
   ]
  },
  {
   "cell_type": "code",
   "execution_count": 102,
   "metadata": {},
   "outputs": [
    {
     "name": "stdout",
     "output_type": "stream",
     "text": [
      "[[ 12  56  78]\n",
      " [ 67  89 100]]\n",
      "100\n",
      "402\n"
     ]
    }
   ],
   "source": [
    "b=np.array([(12, 56, 78), (67, 89, 100)])       #2-D array\n",
    "print(b)\n",
    "print(np.max(b))\n",
    "print(np.sum(b))"
   ]
  },
  {
   "cell_type": "code",
   "execution_count": 103,
   "metadata": {},
   "outputs": [
    {
     "name": "stdout",
     "output_type": "stream",
     "text": [
      "(2, 3)\n",
      "6\n"
     ]
    }
   ],
   "source": [
    "print(b.shape)       #r*c\n",
    "print(b.size)        #total number of elements"
   ]
  },
  {
   "cell_type": "code",
   "execution_count": 104,
   "metadata": {},
   "outputs": [
    {
     "name": "stdout",
     "output_type": "stream",
     "text": [
      "[[ 12  56]\n",
      " [ 78  67]\n",
      " [ 89 100]]\n"
     ]
    }
   ],
   "source": [
    "z=b.reshape(3, 2)\n",
    "print(z)"
   ]
  },
  {
   "cell_type": "code",
   "execution_count": 105,
   "metadata": {},
   "outputs": [
    {
     "name": "stdout",
     "output_type": "stream",
     "text": [
      "[0 1 2 3 4 5]\n"
     ]
    }
   ],
   "source": [
    "x=np.arange(6)\n",
    "print(x)"
   ]
  },
  {
   "cell_type": "code",
   "execution_count": 106,
   "metadata": {},
   "outputs": [
    {
     "name": "stdout",
     "output_type": "stream",
     "text": [
      "[[0 1 2]\n",
      " [3 4 5]]\n"
     ]
    }
   ],
   "source": [
    "c=x.reshape(2, 3)\n",
    "print(c)"
   ]
  },
  {
   "cell_type": "code",
   "execution_count": 107,
   "metadata": {},
   "outputs": [
    {
     "name": "stdout",
     "output_type": "stream",
     "text": [
      "[[1. 0. 0. 0.]\n",
      " [0. 1. 0. 0.]\n",
      " [0. 0. 1. 0.]\n",
      " [0. 0. 0. 1.]]\n"
     ]
    }
   ],
   "source": [
    "x=np.eye(4)\n",
    "print(x)"
   ]
  },
  {
   "cell_type": "code",
   "execution_count": 108,
   "metadata": {},
   "outputs": [
    {
     "name": "stdout",
     "output_type": "stream",
     "text": [
      "[[1. 1. 1. 1. 1.]\n",
      " [1. 1. 1. 1. 1.]]\n"
     ]
    }
   ],
   "source": [
    "w=np.ones((2, 5))\n",
    "print(w)"
   ]
  },
  {
   "cell_type": "code",
   "execution_count": 109,
   "metadata": {},
   "outputs": [
    {
     "name": "stdout",
     "output_type": "stream",
     "text": [
      "[[0. 0. 0. 0.]\n",
      " [0. 0. 0. 0.]]\n"
     ]
    }
   ],
   "source": [
    "n=np.zeros((2, 4))\n",
    "print(n)"
   ]
  },
  {
   "cell_type": "code",
   "execution_count": 110,
   "metadata": {},
   "outputs": [
    {
     "name": "stdout",
     "output_type": "stream",
     "text": [
      "[2.         3.66666667 5.33333333 7.        ]\n"
     ]
    }
   ],
   "source": [
    "m=np.linspace(2, 7, 4)\n",
    "print(m)"
   ]
  },
  {
   "cell_type": "code",
   "execution_count": 119,
   "metadata": {},
   "outputs": [
    {
     "name": "stdout",
     "output_type": "stream",
     "text": [
      "[[  12   45   67   89   56]\n",
      " [  34 5667    4   78    1]\n",
      " [  12   78   90   56   12]\n",
      " [  31   61   81   91    1]]\n",
      "(4, 5)\n"
     ]
    }
   ],
   "source": [
    "a=np.array([(12, 45, 67, 89, 56), (34, 5667, 4, 78, 1), (12, 78, 90, 56, 12), (31, 61, 81, 91, 1)])\n",
    "print(a)\n",
    "print(a.shape)"
   ]
  },
  {
   "cell_type": "code",
   "execution_count": 120,
   "metadata": {},
   "outputs": [
    {
     "name": "stdout",
     "output_type": "stream",
     "text": [
      "12\n"
     ]
    }
   ],
   "source": [
    "print(a[2, 4])"
   ]
  },
  {
   "cell_type": "code",
   "execution_count": 121,
   "metadata": {},
   "outputs": [
    {
     "name": "stdout",
     "output_type": "stream",
     "text": [
      "[[  34 5667]\n",
      " [  12   78]\n",
      " [  31   61]]\n"
     ]
    }
   ],
   "source": [
    "print(a[1: , :2])"
   ]
  },
  {
   "cell_type": "code",
   "execution_count": 122,
   "metadata": {},
   "outputs": [
    {
     "name": "stdout",
     "output_type": "stream",
     "text": [
      "[[12]\n",
      " [34]\n",
      " [12]\n",
      " [31]]\n"
     ]
    }
   ],
   "source": [
    "print(a[:, :1])"
   ]
  },
  {
   "cell_type": "code",
   "execution_count": 124,
   "metadata": {},
   "outputs": [
    {
     "name": "stdout",
     "output_type": "stream",
     "text": [
      "[[12 45]\n",
      " [16  7]]\n",
      "\n",
      "[[ 3  7]\n",
      " [ 9 90]]\n"
     ]
    }
   ],
   "source": [
    "a=np.array([(12, 45),(16, 7)])\n",
    "b=np.array([(3, 7), [9, 90]])\n",
    "print(a)\n",
    "print()\n",
    "print(b)"
   ]
  },
  {
   "cell_type": "code",
   "execution_count": 125,
   "metadata": {},
   "outputs": [],
   "source": [
    "#element wise addition, substraction, multiplication, division, power"
   ]
  },
  {
   "cell_type": "code",
   "execution_count": 126,
   "metadata": {},
   "outputs": [
    {
     "name": "stdout",
     "output_type": "stream",
     "text": [
      "[[15 52]\n",
      " [25 97]]\n"
     ]
    }
   ],
   "source": [
    "c=a+b\n",
    "print(c)"
   ]
  },
  {
   "cell_type": "code",
   "execution_count": 127,
   "metadata": {},
   "outputs": [
    {
     "name": "stdout",
     "output_type": "stream",
     "text": [
      "[[ 36 315]\n",
      " [144 630]]\n"
     ]
    }
   ],
   "source": [
    "v=a*b\n",
    "print(v)"
   ]
  },
  {
   "cell_type": "code",
   "execution_count": 128,
   "metadata": {},
   "outputs": [
    {
     "name": "stdout",
     "output_type": "stream",
     "text": [
      "[[ 441 4134]\n",
      " [ 111  742]]\n"
     ]
    }
   ],
   "source": [
    "val=a.dot(b)\n",
    "print(val)"
   ]
  },
  {
   "cell_type": "code",
   "execution_count": 131,
   "metadata": {},
   "outputs": [
    {
     "name": "stdout",
     "output_type": "stream",
     "text": [
      "[[1]\n",
      " [2]\n",
      " [8]]\n",
      "\n",
      "[[1 2 8]]\n"
     ]
    }
   ],
   "source": [
    "a=np.array([(1, ), (2, ), (8, )])\n",
    "print(a)\n",
    "print()\n",
    "print(a.T)"
   ]
  },
  {
   "cell_type": "code",
   "execution_count": 132,
   "metadata": {},
   "outputs": [
    {
     "name": "stdout",
     "output_type": "stream",
     "text": [
      "[[ 1  2  8]\n",
      " [ 2  4 16]\n",
      " [ 8 16 64]]\n"
     ]
    }
   ],
   "source": [
    "print(a.dot(a.T))"
   ]
  },
  {
   "cell_type": "code",
   "execution_count": null,
   "metadata": {},
   "outputs": [],
   "source": []
  }
 ],
 "metadata": {
  "kernelspec": {
   "display_name": "Python 3",
   "language": "python",
   "name": "python3"
  },
  "language_info": {
   "codemirror_mode": {
    "name": "ipython",
    "version": 3
   },
   "file_extension": ".py",
   "mimetype": "text/x-python",
   "name": "python",
   "nbconvert_exporter": "python",
   "pygments_lexer": "ipython3",
   "version": "3.7.3"
  }
 },
 "nbformat": 4,
 "nbformat_minor": 2
}
